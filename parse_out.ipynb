{
 "cells": [
  {
   "cell_type": "code",
   "execution_count": 2,
   "id": "compliant-dealing",
   "metadata": {},
   "outputs": [],
   "source": [
    "import os\n"
   ]
  },
  {
   "cell_type": "code",
   "execution_count": 256,
   "id": "nutritional-thread",
   "metadata": {},
   "outputs": [
    {
     "name": "stdout",
     "output_type": "stream",
     "text": [
      "1NTT18927,0,0,0,0,0\n",
      "1NTT19535,0,0,0,0,0\n",
      "1NTT67246,0,0,0,0,0\n",
      "1NTT19478,0,0,0,0,0\n",
      "143XB8CT,0,0,0,0,0\n",
      "1NTT30990,0,0,0,0,0\n",
      "1NTT48337,0,0,0,0,0\n",
      "1NTT19213,0,0,0,0,0\n",
      "1NTT22885,0,0,0,0,0\n",
      "1NTT18635,0,0,0,0,0\n"
     ]
    }
   ],
   "source": [
    "# Go overa type of model\n",
    "\n",
    "base_dir = '/data/yijun/NTT/model-results-1006/'\n",
    "\n",
    "model_type = 'TGConvNGATCluster2'\n",
    "graph_type = 'naive'\n",
    "exp_type = 'h32_SVM_rs4321'\n",
    "networks = ['1NTT18927', '1NTT19535', '1NTT67246', '1NTT19478', '143XB8CT', \n",
    "            '1NTT30990', '1NTT48337', '1NTT19213', '1NTT22885', '1NTT18635']\n",
    "\n",
    "def parse_res(s):\n",
    "    res = s.strip().split(':')[2:]\n",
    "    return [float(r[:5]) for r in res]\n",
    "\n",
    "def parser(f):\n",
    "    cur_network, res = '', []\n",
    "    for line in f:\n",
    "        if 'data_path' in line:    \n",
    "            cur_network = line.split('/')[-1].split('_')[0]\n",
    "            res = []\n",
    "        if 'Test' in line:\n",
    "            res.append(parse_res(line))\n",
    "        if 'Models have been saved' in line:\n",
    "            res = res[-1:]\n",
    "        if 'RuntimeError' in line:\n",
    "            res = ['error', 'error', 'error', 'error', 'error']\n",
    "    return cur_network, res\n",
    "        \n",
    "network_res = {i: [0,0,0,0,0] for i in networks}\n",
    "for subdir, dirs, files in os.walk(base_dir):\n",
    "    \n",
    "    for file in files:\n",
    "        \n",
    "        if model_type == file.split('_')[0] \\\n",
    "            and file.split('_')[1] != 'UN' \\\n",
    "            and graph_type in file \\\n",
    "            and exp_type in file \\\n",
    "            and '.log' in file:\n",
    "            \n",
    "            f = open(os.path.join(subdir, file), 'r')\n",
    "            network, out = parser(f)\n",
    "\n",
    "            if len(out) == 0:\n",
    "                network_res[network] = [0,0,0,0,0]\n",
    "            else:\n",
    "                network_res[network] = out[0]\n",
    "                \n",
    "for k,v in network_res.items():\n",
    "    print(f'{k},{v[0]},{v[1]},{v[2]},{v[3]},{v[4]}')\n",
    "            \n"
   ]
  },
  {
   "cell_type": "code",
   "execution_count": null,
   "id": "executed-highland",
   "metadata": {},
   "outputs": [],
   "source": []
  },
  {
   "cell_type": "code",
   "execution_count": 177,
   "id": "jewish-alexandria",
   "metadata": {},
   "outputs": [
    {
     "name": "stdout",
     "output_type": "stream",
     "text": [
      "[0.03755801, 0.96244199]\n",
      "[0.10842215, 0.89157785]\n",
      "[0.08801211, 0.91198789]\n",
      "[0.11924519, 0.88075481]\n",
      "[0.02494693, 0.97505307]\n",
      "[0.02130998, 0.97869002]\n",
      "[0.04785362, 0.95214638]\n",
      "[0.03703869, 0.96296131]\n",
      "[0.05330926, 0.94669074]\n",
      "[0.27098774, 0.72901226]\n"
     ]
    }
   ],
   "source": [
    "# Go overa type of model\n",
    "\n",
    "base_dir = '/data/yijun/NTT/model-results-1006/'\n",
    "\n",
    "model_type = 'TGConvNGATCC'\n",
    "graph_type = 'naive'\n",
    "exp_type = 'h32_SVM_rs4321'\n",
    "networks = ['1NTT18927', '1NTT19535', '1NTT67246', '1NTT19478', '143XB8CT', \n",
    "            '1NTT30990', '1NTT48337', '1NTT19213', '1NTT22885', '1NTT18635']\n",
    "\n",
    "def parse_res(s):\n",
    "    res = s.strip().split(':')[2:]\n",
    "    return [float(r[:5]) for r in res]\n",
    "\n",
    "def parser(f):\n",
    "    cur_network, res = '', []\n",
    "    for line in f:\n",
    "        if 'data_path' in line:    \n",
    "            cur_network = line.split('/')[-1].split('_')[0]\n",
    "        if 'weighted labels' in line:\n",
    "            res = line.split(':')[-1][2:-2].split(' ')\n",
    "            res = [float(i) for i in res]\n",
    "    return cur_network, res\n",
    "        \n",
    "network_res = {i: [0,0] for i in networks}\n",
    "for subdir, dirs, files in os.walk(base_dir):\n",
    "    \n",
    "    for file in files:\n",
    "        \n",
    "        if model_type in file \\\n",
    "            and file.split('_')[1] == 'UN' \\\n",
    "            and graph_type in file \\\n",
    "            and exp_type in file \\\n",
    "            and '.log' in file:\n",
    "            \n",
    "            f = open(os.path.join(subdir, file), 'r')\n",
    "            network, out = parser(f)\n",
    "            \n",
    "            network_res[network] = out\n",
    "            print(out)\n",
    "            \n"
   ]
  },
  {
   "cell_type": "code",
   "execution_count": 115,
   "id": "cosmetic-stanley",
   "metadata": {},
   "outputs": [
    {
     "name": "stdout",
     "output_type": "stream",
     "text": [
      "1NTT18927 & 53 & 125 & 0.96:0.04 \\\\ \\hline 0.5457227138643068\n",
      "1NTT19535 & 84 & 142 & 0.89:0.11 \\\\ \\hline 0.16157635467980297\n",
      "1NTT67246 & 36 & 134 & 0.91:0.09 \\\\ \\hline 0.19211324570273003\n",
      "1NTT19478 & 120 & 147 & 0.88:0.12 \\\\ \\hline 0.15080527086383602\n",
      "143XB8CT & 97 & 78 & 0.98:0.02 \\\\ \\hline 0.48441926345609065\n",
      "1NTT30990 & 20 & 71 & 0.98:0.02 \\\\ \\hline 0.5356561380657766\n",
      "1NTT48337 & 89 & 83 & 0.95:0.05 \\\\ \\hline 0.22160341924621163\n",
      "1NTT19213 & 119 & 78 & 0.96:0.04 \\\\ \\hline 0.2822185970636215\n",
      "1NTT22885 & 91 & 91 & 0.95:0.05 \\\\ \\hline 0.21876211396821293\n",
      "1NTT18635 & 143 & 189 & 0.73:0.27 \\\\ \\hline 0.08004122294744075\n"
     ]
    }
   ],
   "source": [
    "import numpy as np\n",
    "\n",
    "networks = ['1NTT18927', '1NTT19535', '1NTT67246', '1NTT19478', '143XB8CT', \n",
    "            '1NTT30990', '1NTT48337', '1NTT19213', '1NTT22885', '1NTT18635']\n",
    "\n",
    "for i, network in enumerate(networks): # networks[1:2]):\n",
    "\n",
    "    base_dir = '/data/yijun/NTT/'\n",
    "    data_name = f'{network}_naive_itv_72'\n",
    "    data_path = os.path.join(base_dir, f'graph-data/08/{data_name}/graph.npz')\n",
    "        \n",
    "    data = np.load(data_path, allow_pickle=True)\n",
    "    num_nodes = len(data['node_name'])\n",
    "    graph_label = data['graph_label']\n",
    "    num_event = sum(1 for i in range(graph_label.shape[0]) if graph_label[i] == 1)\n",
    "    \n",
    "    num_unlabel = sum(1 for i in range(graph_label.shape[0]) if graph_label[i] == -1)\n",
    "    num_label = sum(1 for i in range(graph_label.shape[0])) - num_unlabel    \n",
    "      \n",
    "    out_str = [network, num_nodes, num_event, str(network_res[network][1]) + ':'+ str(network_res[network][0])]\n",
    "    out_str = [str(i) for i in out_str]\n",
    "    \n",
    "    print(' & '.join(out_str) +  ' \\\\\\ \\hline', num_label / num_unlabel )"
   ]
  },
  {
   "cell_type": "code",
   "execution_count": 294,
   "id": "eed1f76f-0e49-4fde-9507-dc561a6e4728",
   "metadata": {},
   "outputs": [
    {
     "name": "stdout",
     "output_type": "stream",
     "text": [
      "SVC [0.537, 0.62, 0.511, 0.515, 0.197, 0.089, 0.236, 0.21, 0.419, 0.638]\n",
      "GAT [0.602, 0.639, 0.566, 0.445, 0.249, 0.234, 0.55, 0.258, 0.492, 0.766]\n",
      "GAT-LSTM [0.576, 0.484, 0.333, 0.405, 0.176, 0.214, 0.2, 0.188, 0.584, 0.658]\n",
      "MTAD-GAT [0.439, 0.544, 0.295, 0.408, 0.207, 0.286, 0.211, 0.167, 0.477, 0.674]\n",
      "Deep SAD [0.746, 0.737, 0.78, 0.667, 0.315, 0.298, 0.483, 0.2, 0.563, 0.782]\n",
      "GatedConv-NGAT + only CC Loss [0.809, 0.808, 0.955, 0.785, 0.462, 0.267, 0.75, 0.422, 0.8, 0.935]\n",
      "GatedConv-NGAT + only KL Loss [0.717, 0.773, 0.889, 0.782, 0.466, 0.288, 0.672, 0.413, 0.85, 0.962]\n",
      "corr [0.73, 0.736, 0.807, 0.711, 0.421, 0.266, 0.532, 0.444, 0.651, 0.719]\n",
      "Our Method [0.823, 0.877, 0.946, 0.808, 0.502, 0.397, 0.754, 0.573, 0.897, 0.98]\n"
     ]
    }
   ],
   "source": [
    "networks = ['1NTT18927', '1NTT19535', '1NTT67246', '1NTT19478', '143XB8CT', \n",
    "            '1NTT30990', '1NTT48337', '1NTT19213', '1NTT22885', '1NTT18635']\n",
    "\n",
    "m = ['SVC', 'GAT', 'GAT-LSTM', 'MTAD-GAT', 'Deep SAD',\n",
    "     'GatedConv-NGAT + only CC Loss', \n",
    "     'GatedConv-NGAT + only KL Loss', \n",
    "     'corr',\n",
    "     'Our Method']\n",
    "\n",
    "precision = {\n",
    "    m[0]: [0.386, 0.524, 0.364, 0.366, 0.116, 0.049, 0.141, 0.19, 0.269, 0.481], # fixed\n",
    "    m[1]: [0.458, 0.535, 0.531, 0.319, 0.149, 0.156, 0.5, 0.158, 0.357, 0.739], # fixed\n",
    "    m[2]: [0.438, 0.455, 0.214, 0.327, 0.141, 0.231, 0.135, 0.114, 0.483, 0.676],\n",
    "    m[3]: [0.327, 0.477, 0.190, 0.316, 0.155, 0.206, 0.178, 0.101, 0.405, 0.623],\n",
    "    m[4]: [0.647, 0.75, 0.742, 0.667, 0.198, 0.219, 0.636, 0.174, 0.507, 0.693],  # fixed\n",
    "    m[5]: [0.864, 0.913, 0.946, 0.846, 0.667, 0.267, 0.682, 0.333, 0.875, 0.947],  # fixed\n",
    "    m[6]: [0.735, 0.876, 0.923, 0.897, 0.621, 0.254, 0.629, 0.303, 0.810, 0.950], # fixed\n",
    "    m[7]: [0.714, 0.775, 0.850, 0.927, 0.495, 0.184, 0.470, 0.355, 0.553, 0.617],\n",
    "    m[8]: [0.898, 0.893, 0.963, 0.955, 0.674, 0.294, 0.691, 0.450, 0.850, 0.978], # fixed\n",
    "}\n",
    "\n",
    "recall = {\n",
    "    m[0]: [0.880, 0.759, 0.857, 0.867, 0.647, 0.467, 0.722, 0.235, 0.947, 0.949], # fixed\n",
    "    m[1]: [0.880, 0.793, 0.607, 0.733, 0.765, 0.467, 0.611, 0.706, 0.789, 0.795], # fixed\n",
    "    m[2]: [0.840, 0.517, 0.750, 0.533, 0.235, 0.200, 0.389, 0.529, 0.737, 0.641],\n",
    "    m[3]: [0.666, 0.632, 0.655, 0.577, 0.313, 0.466, 0.259, 0.490, 0.579, 0.735],\n",
    "    m[4]: [0.880, 0.724, 0.821, 0.667, 0.765, 0.467, 0.389, 0.235, 0.632, 0.897],  # fixed\n",
    "    m[5]: [0.760, 0.724, 0.964, 0.733, 0.353, 0.267, 0.833, 0.576, 0.737, 0.923],  # fixed\n",
    "    m[6]: [0.700, 0.692, 0.857, 0.693, 0.373, 0.333, 0.722, 0.647, 0.895, 0.974], # fixed\n",
    "    m[7]: [0.746, 0.701, 0.769, 0.577, 0.366, 0.477, 0.614, 0.592, 0.791, 0.860],\n",
    "    m[8]: [0.760, 0.862, 0.929, 0.700, 0.400, 0.611, 0.829, 0.789, 0.949, 0.982], # fixed\n",
    "}\n",
    "\n",
    "def _f1(i, j): \n",
    "    return round(2 * (precision[i][j] * recall[i][j]) / (precision[i][j] + recall[i][j]), 3) \n",
    "\n",
    "f1 = {\n",
    "    m[0]: [_f1(m[0], i) for i in range(len(networks))], \n",
    "    m[1]: [_f1(m[1], i) for i in range(len(networks))], \n",
    "    m[2]: [_f1(m[2], i) for i in range(len(networks))], \n",
    "    m[3]: [_f1(m[3], i) for i in range(len(networks))], \n",
    "    m[4]: [_f1(m[4], i) for i in range(len(networks))], \n",
    "    m[5]: [_f1(m[5], i) for i in range(len(networks))], \n",
    "    m[6]: [_f1(m[6], i) for i in range(len(networks))], \n",
    "    m[7]: [_f1(m[7], i) for i in range(len(networks))], \n",
    "    m[8]: [_f1(m[8], i) for i in range(len(networks))], \n",
    "}\n",
    "                                 \n",
    "# f1 = {\n",
    "#     m[0]: [0.537, 0.620, 0.511, 0.515, 0.196, 0.089, 0.236, 0.211, 0.419, 0.638], # fixed\n",
    "#     m[1]: [0.603, 0.639, 0.567, 0.444, 0.250, 0.233, 0.550, 0.258, 0.492, 0.861], # fixed\n",
    "#     m[2]: [0.504, 0.546, 0.508, 0.536, 0.131, 0.262, 0.255, 0.112, 0.403, 0.665],\n",
    "#     m[3]: [0.431, 0.593, 0.295, 0.449, 0.094, 0.266, 0.117, 0.168, 0.375, 0.523],\n",
    "#     m[4]: [0.746, 0.737, 0.78, 0.667, 0.173, 0.298, 0.483, 0.113, 0.312, 0.715],  # fixed\n",
    "#     m[5]: [0.809, 0.808, 0.982, 0.786, 0.462, 0.267, 0.757, 0.231, 0.8, 0.935],  # fixed\n",
    "#     m[6]: [0.202, 0, 0.889, 0.966, 0, 0.4, 0.813, 0.177, 0.85, 0.962], # fixed\n",
    "#     m[5]: [0.864, 0.877, 0.945, 0.808, 0.487, 0.279, 0.811, 0.486, 0.769, 0.974], # fixed\n",
    "# }\n",
    "\n",
    "for k, v in f1.items():\n",
    "    print(k, v)\n"
   ]
  },
  {
   "cell_type": "code",
   "execution_count": 285,
   "id": "f8c94165-0918-4c62-a6fb-a12ddf55ce1b",
   "metadata": {},
   "outputs": [
    {
     "ename": "KeyError",
     "evalue": "'ST-Conv-NGAT + only KL Loss'",
     "output_type": "error",
     "traceback": [
      "\u001b[0;31m---------------------------------------------------------------------------\u001b[0m",
      "\u001b[0;31mKeyError\u001b[0m                                  Traceback (most recent call last)",
      "\u001b[0;32m/tmp/ipykernel_2715/4010410852.py\u001b[0m in \u001b[0;36m<module>\u001b[0;34m\u001b[0m\n\u001b[1;32m      1\u001b[0m \u001b[0ms\u001b[0m \u001b[0;34m=\u001b[0m \u001b[0;34m[\u001b[0m\u001b[0;34m]\u001b[0m\u001b[0;34m\u001b[0m\u001b[0;34m\u001b[0m\u001b[0m\n\u001b[1;32m      2\u001b[0m \u001b[0;32mfor\u001b[0m \u001b[0mi\u001b[0m \u001b[0;32min\u001b[0m \u001b[0mrange\u001b[0m\u001b[0;34m(\u001b[0m\u001b[0mlen\u001b[0m\u001b[0;34m(\u001b[0m\u001b[0mnetworks\u001b[0m\u001b[0;34m)\u001b[0m\u001b[0;34m)\u001b[0m\u001b[0;34m:\u001b[0m\u001b[0;34m\u001b[0m\u001b[0;34m\u001b[0m\u001b[0m\n\u001b[0;32m----> 3\u001b[0;31m     \u001b[0ms\u001b[0m\u001b[0;34m.\u001b[0m\u001b[0mappend\u001b[0m\u001b[0;34m(\u001b[0m\u001b[0;34m(\u001b[0m\u001b[0mf1\u001b[0m\u001b[0;34m[\u001b[0m\u001b[0;34m'Our Method'\u001b[0m\u001b[0;34m]\u001b[0m\u001b[0;34m[\u001b[0m\u001b[0mi\u001b[0m\u001b[0;34m]\u001b[0m \u001b[0;34m-\u001b[0m \u001b[0mf1\u001b[0m\u001b[0;34m[\u001b[0m\u001b[0;34m'ST-Conv-NGAT + only KL Loss'\u001b[0m\u001b[0;34m]\u001b[0m\u001b[0;34m[\u001b[0m\u001b[0mi\u001b[0m\u001b[0;34m]\u001b[0m\u001b[0;34m)\u001b[0m \u001b[0;34m/\u001b[0m \u001b[0mf1\u001b[0m\u001b[0;34m[\u001b[0m\u001b[0;34m'ST-Conv-NGAT + only KL Loss'\u001b[0m\u001b[0;34m]\u001b[0m\u001b[0;34m[\u001b[0m\u001b[0mi\u001b[0m\u001b[0;34m]\u001b[0m\u001b[0;34m)\u001b[0m\u001b[0;34m\u001b[0m\u001b[0;34m\u001b[0m\u001b[0m\n\u001b[0m\u001b[1;32m      4\u001b[0m     \u001b[0mprint\u001b[0m\u001b[0;34m(\u001b[0m\u001b[0mnetworks\u001b[0m\u001b[0;34m[\u001b[0m\u001b[0mi\u001b[0m\u001b[0;34m]\u001b[0m\u001b[0;34m,\u001b[0m \u001b[0;34m(\u001b[0m\u001b[0mf1\u001b[0m\u001b[0;34m[\u001b[0m\u001b[0;34m'Our Method'\u001b[0m\u001b[0;34m]\u001b[0m\u001b[0;34m[\u001b[0m\u001b[0mi\u001b[0m\u001b[0;34m]\u001b[0m \u001b[0;34m-\u001b[0m \u001b[0mf1\u001b[0m\u001b[0;34m[\u001b[0m\u001b[0;34m'ST-Conv-NGAT + only CC Loss'\u001b[0m\u001b[0;34m]\u001b[0m\u001b[0;34m[\u001b[0m\u001b[0mi\u001b[0m\u001b[0;34m]\u001b[0m\u001b[0;34m)\u001b[0m \u001b[0;34m/\u001b[0m \u001b[0mf1\u001b[0m\u001b[0;34m[\u001b[0m\u001b[0;34m'ST-Conv-NGAT + only CC Loss'\u001b[0m\u001b[0;34m]\u001b[0m\u001b[0;34m[\u001b[0m\u001b[0mi\u001b[0m\u001b[0;34m]\u001b[0m\u001b[0;34m)\u001b[0m\u001b[0;34m\u001b[0m\u001b[0;34m\u001b[0m\u001b[0m\n\u001b[1;32m      5\u001b[0m \u001b[0;34m\u001b[0m\u001b[0m\n",
      "\u001b[0;31mKeyError\u001b[0m: 'ST-Conv-NGAT + only KL Loss'"
     ]
    }
   ],
   "source": [
    "s = []\n",
    "for i in range(len(networks)):\n",
    "    s.append((f1['Our Method'][i] - f1['ST-Conv-NGAT + only KL Loss'][i]) / f1['ST-Conv-NGAT + only KL Loss'][i])\n",
    "    print(networks[i], (f1['Our Method'][i] - f1['ST-Conv-NGAT + only CC Loss'][i]) / f1['ST-Conv-NGAT + only CC Loss'][i])\n",
    "    \n",
    "print(sum(s) / len(s))"
   ]
  },
  {
   "cell_type": "code",
   "execution_count": 286,
   "id": "519c2597-e413-407c-936a-942c26265363",
   "metadata": {},
   "outputs": [
    {
     "data": {
      "image/png": "[encoded data removed]",
      "text/plain": [
       "<Figure size 1440x432 with 1 Axes>"
      ]
     },
     "metadata": {
      "needs_background": "light"
     },
     "output_type": "display_data"
    }
   ],
   "source": [
    "import numpy as np\n",
    "import matplotlib.pyplot as plt\n",
    "import seaborn as sns\n",
    "%matplotlib inline\n",
    "# plt.style.use('ggplot')\n",
    "\n",
    "\n",
    "N = len(networks)\n",
    "fig = plt.figure(figsize=(20, 6))\n",
    "colors = sns.color_palette(\"tab10\", 10)\n",
    "    \n",
    "ind = np.arange(N)\n",
    "width = 0.1     \n",
    "\n",
    "for i in [0,1,2,3,4]: #range(len(m) - 1):\n",
    "    \n",
    "    plt.bar(ind + i * width, f1[m[i]], width, label=m[i], \n",
    "            color=colors[i], alpha = 0.5)\n",
    "\n",
    "plt.bar(ind + (len(m) - 1 - 2) * width, f1[m[-1]], width, label=m[-1], \n",
    "        color='r', edgecolor='black', lw=1)\n",
    "    \n",
    "plt.ylabel('F1 Score', fontsize=14, color='black')\n",
    "plt.yticks(fontsize=14, color='black')\n",
    "\n",
    "plt.xticks(ind + (len(m) - 1) * width / 2, networks, fontsize=14, color='black')\n",
    "plt.legend(loc=4, fontsize=13, framealpha=0.9)\n",
    "plt.show()\n"
   ]
  },
  {
   "cell_type": "code",
   "execution_count": 288,
   "id": "aec2154b-46b0-4bd8-aec5-5bdd2ce7b9f4",
   "metadata": {},
   "outputs": [
    {
     "data": {
      "image/png": "[encoded data removed]",
      "text/plain": [
       "<Figure size 1440x432 with 1 Axes>"
      ]
     },
     "metadata": {
      "needs_background": "light"
     },
     "output_type": "display_data"
    }
   ],
   "source": [
    "import numpy as np\n",
    "import matplotlib.pyplot as plt\n",
    "import seaborn as sns\n",
    "%matplotlib inline\n",
    "# plt.style.use('ggplot')\n",
    "\n",
    "\n",
    "N = len(networks)\n",
    "fig = plt.figure(figsize=(20, 6))\n",
    "colors = sns.color_palette(\"tab10\", 10)\n",
    "    \n",
    "ind = np.arange(N)\n",
    "width = 0.1     \n",
    "\n",
    "for i in [0,1,2,3,4]: #range(len(m) - 1):\n",
    "    \n",
    "    plt.bar(ind + i * width, recall[m[i]], width, label=m[i], \n",
    "            color=colors[i], alpha = 0.5)\n",
    "\n",
    "plt.bar(ind + (len(m) - 1 - 2) * width, recall[m[-1]], width, label=m[-1], \n",
    "        color='r', edgecolor='black', lw=1)\n",
    "    \n",
    "plt.ylabel('Recall', fontsize=14, color='black')\n",
    "plt.yticks(fontsize=14, color='black')\n",
    "\n",
    "plt.xticks(ind + (len(m) - 1) * width / 2, networks, fontsize=14, color='black')\n",
    "plt.legend(loc=4, fontsize=13, framealpha=0.9)\n",
    "plt.show()\n"
   ]
  },
  {
   "cell_type": "code",
   "execution_count": null,
   "id": "e706b66d-761d-49f7-91fd-1494d4c990d6",
   "metadata": {},
   "outputs": [],
   "source": [
    "import numpy as np\n",
    "import matplotlib.pyplot as plt\n",
    "import seaborn as sns\n",
    "%matplotlib inline\n",
    "plt.style.use('ggplot')\n",
    "\n",
    "networks = ['1NTT18927', '1NTT19535', '1NTT67246', '1NTT19478', '143XB8CT', \n",
    "            '1NTT30990', '1NTT48337', '1NTT19213', '1NTT22885', '1NTT18635']\n",
    "\n",
    "m = ['SVM', 'GAT', 'GAT-LSTM', 'MTAD-GAT', 'Deep SAD',\n",
    "#      'ST-Conv-NGAT + only CC Loss', \n",
    "#      'ST-Conv-NGAT + only KL Loss', \n",
    "     'Our Method']\n",
    "\n",
    "N = len(networks)\n",
    "fig = plt.figure(figsize=(20, 6))\n",
    "colors = sns.color_palette(\"tab10\", 10)\n",
    "    \n",
    "ind = np.arange(N)\n",
    "width = 0.1     \n",
    "\n",
    "for i in range(len(m) - 1):\n",
    "    \n",
    "    plt.bar(ind + i * width, res[m[i]], width, label=m[i], \n",
    "            color=colors[i], alpha = 0.6)\n",
    "\n",
    "plt.bar(ind + (len(m) - 1) * width, res[m[-1]], width, label=m[-1], \n",
    "        color='r', edgecolor='black', lw=1)\n",
    "    \n",
    "plt.ylabel('Recall', fontsize=14, color='black')\n",
    "plt.yticks(fontsize=14, color='black')\n",
    "\n",
    "plt.xticks(ind + (len(m) - 1) * width / 2, networks, fontsize=14, color='black')\n",
    "plt.legend(loc=4, fontsize=13, framealpha=0.9)\n",
    "plt.show()\n"
   ]
  },
  {
   "cell_type": "code",
   "execution_count": 196,
   "id": "e144b0e3-8544-43c0-bffb-aff8158cb328",
   "metadata": {},
   "outputs": [
    {
     "name": "stdout",
     "output_type": "stream",
     "text": [
      "num_train: 1997, num_val: 666, num_test: 666.\n",
      "weighted labels: [0.03755801 0.96244199]\n"
     ]
    },
    {
     "name": "stderr",
     "output_type": "stream",
     "text": [
      "/usr/local/lib/python3.8/dist-packages/sklearn/utils/validation.py:63: DataConversionWarning: A column-vector y was passed when a 1d array was expected. Please change the shape of y to (n_samples, ), for example using ravel().\n",
      "  return f(*args, **kwargs)\n"
     ]
    },
    {
     "name": "stdout",
     "output_type": "stream",
     "text": [
      "0.995, 0.945, 0.386, 0.880, 0.537.\n",
      "num_train: 786, num_val: 262, num_test: 263.\n",
      "weighted labels: [0.10814627 0.89185373]\n"
     ]
    },
    {
     "name": "stderr",
     "output_type": "stream",
     "text": [
      "/usr/local/lib/python3.8/dist-packages/sklearn/utils/validation.py:63: DataConversionWarning: A column-vector y was passed when a 1d array was expected. Please change the shape of y to (n_samples, ), for example using ravel().\n",
      "  return f(*args, **kwargs)\n"
     ]
    },
    {
     "name": "stdout",
     "output_type": "stream",
     "text": [
      "0.968, 0.915, 0.524, 0.759, 0.620.\n",
      "num_train: 909, num_val: 303, num_test: 306.\n",
      "weighted labels: [0.08801211 0.91198789]\n"
     ]
    },
    {
     "name": "stderr",
     "output_type": "stream",
     "text": [
      "/usr/local/lib/python3.8/dist-packages/sklearn/utils/validation.py:63: DataConversionWarning: A column-vector y was passed when a 1d array was expected. Please change the shape of y to (n_samples, ), for example using ravel().\n",
      "  return f(*args, **kwargs)\n"
     ]
    },
    {
     "name": "stdout",
     "output_type": "stream",
     "text": [
      "0.983, 0.849, 0.364, 0.857, 0.511.\n",
      "num_train: 740, num_val: 246, num_test: 249.\n",
      "weighted labels: [0.11892291 0.88107709]\n"
     ]
    },
    {
     "name": "stderr",
     "output_type": "stream",
     "text": [
      "/usr/local/lib/python3.8/dist-packages/sklearn/utils/validation.py:63: DataConversionWarning: A column-vector y was passed when a 1d array was expected. Please change the shape of y to (n_samples, ), for example using ravel().\n",
      "  return f(*args, **kwargs)\n"
     ]
    },
    {
     "name": "stdout",
     "output_type": "stream",
     "text": [
      "0.978, 0.795, 0.366, 0.867, 0.515.\n",
      "num_train: 1844, num_val: 615, num_test: 617.\n",
      "weighted labels: [0.02494693 0.97505307]\n"
     ]
    },
    {
     "name": "stderr",
     "output_type": "stream",
     "text": [
      "/usr/local/lib/python3.8/dist-packages/sklearn/utils/validation.py:63: DataConversionWarning: A column-vector y was passed when a 1d array was expected. Please change the shape of y to (n_samples, ), for example using ravel().\n",
      "  return f(*args, **kwargs)\n"
     ]
    },
    {
     "name": "stdout",
     "output_type": "stream",
     "text": [
      "0.989, 0.860, 0.116, 0.647, 0.196.\n",
      "num_train: 1971, num_val: 657, num_test: 660.\n",
      "weighted labels: [0.02130998 0.97869002]\n"
     ]
    },
    {
     "name": "stderr",
     "output_type": "stream",
     "text": [
      "/usr/local/lib/python3.8/dist-packages/sklearn/utils/validation.py:63: DataConversionWarning: A column-vector y was passed when a 1d array was expected. Please change the shape of y to (n_samples, ), for example using ravel().\n",
      "  return f(*args, **kwargs)\n"
     ]
    },
    {
     "name": "stdout",
     "output_type": "stream",
     "text": [
      "0.985, 0.791, 0.049, 0.467, 0.089.\n",
      "num_train: 1023, num_val: 341, num_test: 345.\n",
      "weighted labels: [0.0479004 0.9520996]\n"
     ]
    },
    {
     "name": "stderr",
     "output_type": "stream",
     "text": [
      "/usr/local/lib/python3.8/dist-packages/sklearn/utils/validation.py:63: DataConversionWarning: A column-vector y was passed when a 1d array was expected. Please change the shape of y to (n_samples, ), for example using ravel().\n",
      "  return f(*args, **kwargs)\n"
     ]
    },
    {
     "name": "stdout",
     "output_type": "stream",
     "text": [
      "0.980, 0.758, 0.141, 0.722, 0.236.\n",
      "num_train: 1242, num_val: 414, num_test: 418.\n",
      "weighted labels: [0.03703869 0.96296131]\n"
     ]
    },
    {
     "name": "stderr",
     "output_type": "stream",
     "text": [
      "/usr/local/lib/python3.8/dist-packages/sklearn/utils/validation.py:63: DataConversionWarning: A column-vector y was passed when a 1d array was expected. Please change the shape of y to (n_samples, ), for example using ravel().\n",
      "  return f(*args, **kwargs)\n"
     ]
    },
    {
     "name": "stdout",
     "output_type": "stream",
     "text": [
      "0.967, 0.958, 0.190, 0.235, 0.211.\n",
      "num_train: 1012, num_val: 338, num_test: 340.\n",
      "weighted labels: [0.05336194 0.94663806]\n"
     ]
    },
    {
     "name": "stderr",
     "output_type": "stream",
     "text": [
      "/usr/local/lib/python3.8/dist-packages/sklearn/utils/validation.py:63: DataConversionWarning: A column-vector y was passed when a 1d array was expected. Please change the shape of y to (n_samples, ), for example using ravel().\n",
      "  return f(*args, **kwargs)\n"
     ]
    },
    {
     "name": "stdout",
     "output_type": "stream",
     "text": [
      "0.996, 0.847, 0.269, 0.947, 0.419.\n",
      "num_train: 418, num_val: 139, num_test: 141.\n",
      "weighted labels: [0.27033946 0.72966054]\n"
     ]
    },
    {
     "name": "stderr",
     "output_type": "stream",
     "text": [
      "/usr/local/lib/python3.8/dist-packages/sklearn/utils/validation.py:63: DataConversionWarning: A column-vector y was passed when a 1d array was expected. Please change the shape of y to (n_samples, ), for example using ravel().\n",
      "  return f(*args, **kwargs)\n"
     ]
    },
    {
     "name": "stdout",
     "output_type": "stream",
     "text": [
      "0.969, 0.608, 0.481, 0.949, 0.638.\n"
     ]
    }
   ],
   "source": [
    "import os\n",
    "import logging\n",
    "import pickle\n",
    "import datetime\n",
    "\n",
    "import sys \n",
    "sys.path.append(\"..\") \n",
    "\n",
    "import numpy as np\n",
    "import torch\n",
    "\n",
    "from semi_supervised_AD.data_utils.ntt_dataset import NTTDataset\n",
    "from semi_supervised_AD.data_utils.data_container import DataContainer\n",
    "from semi_supervised_AD.utils.train_options import arg_parse, verbose, initialize_tb\n",
    "from semi_supervised_AD.models.others import svm_classify, svm_predict\n",
    "from semi_supervised_AD.utils.evaluate import evaluate\n",
    "\n",
    "        \n",
    "''' loading data '''\n",
    "for i, network in enumerate(networks): # networks[1:2]):\n",
    "\n",
    "    base_dir = '/data/yijun/NTT/'\n",
    "    data_name = f'{network}_naive_itv_72'\n",
    "    data_path = os.path.join(base_dir, f'graph-data/08/{data_name}')\n",
    "    dataset = NTTDataset(root=data_path)\n",
    "    data = DataContainer(dataset, \n",
    "                         num_classes=2,\n",
    "                         batch_size=32,\n",
    "                         use_unlabel=False,\n",
    "                         shuffle=True,\n",
    "                         random_seed=1234)\n",
    "   \n",
    "    train_x, train_y, test_x, test_y = [], [], [], []\n",
    "    weight = data.label_weight.numpy()\n",
    "    \n",
    "    for d in data.train_dataset:\n",
    "        train_x.append(d.x.numpy().reshape(1, -1))\n",
    "        train_y.append(d.y.numpy().reshape(1, -1))\n",
    "    \n",
    "    for d in data.test_dataset:\n",
    "        test_x.append(d.x.numpy().reshape(1, -1))\n",
    "        test_y.append(d.y.numpy().reshape(1, -1))\n",
    "     \n",
    "    train_x = np.concatenate(train_x)\n",
    "    train_y = np.concatenate(train_y)\n",
    "    test_x = np.concatenate(test_x)\n",
    "    test_y = np.concatenate(test_y)\n",
    "    \n",
    "    clf = svm_classify(train_x, train_y, label_weight=weight)\n",
    "    test_p = svm_predict(test_x, clf).reshape(1, -1)\n",
    "\n",
    "    loss = evaluate(test_y.reshape(-1, 1), test_p.reshape(-1, 1))\n",
    "    print('{:.3f}, {:.3f}, {:.3f}, {:.3f}, {:.3f}.'.format(*loss))\n",
    "        "
   ]
  },
  {
   "cell_type": "code",
   "execution_count": null,
   "id": "1fcd5cb0-fcde-45d9-a99d-6b01d433f670",
   "metadata": {},
   "outputs": [],
   "source": []
  }
 ],
 "metadata": {
  "kernelspec": {
   "display_name": "Python 3 (ipykernel)",
   "language": "python",
   "name": "python3"
  },
  "language_info": {
   "codemirror_mode": {
    "name": "ipython",
    "version": 3
   },
   "file_extension": ".py",
   "mimetype": "text/x-python",
   "name": "python",
   "nbconvert_exporter": "python",
   "pygments_lexer": "ipython3",
   "version": "3.8.9"
  }
 },
 "nbformat": 4,
 "nbformat_minor": 5
}
